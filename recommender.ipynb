{
 "cells": [
  {
   "cell_type": "markdown",
   "source": "# Song Recommender\n\nGiven a Spotify username and a playlist, we introduce an algorithm that outputs song recommendations based on and similar to songs seen in the playlist. We draw upon existing datasets of 170,000+ songs, 2,900+ genres, and information about songs over timeto implement our algorithm.\n\nReference: https://towardsdatascience.com/how-to-build-an-amazing-music-recommendation-system-4cce2719a572\nDataset source: https://github.com/AmolMavuduru/SpotifyRecommenderSystem/tree/master/data",
   "metadata": {
    "cell_id": "00000-e44d943b-29a3-42c5-aec4-3910d706ceb3",
    "deepnote_cell_type": "markdown",
    "deepnote_cell_height": 224
   }
  },
  {
   "cell_type": "markdown",
   "source": "### Import libraries",
   "metadata": {
    "cell_id": "00001-a19a34b4-6c64-4dd6-bd84-bd51b037b102",
    "deepnote_cell_type": "markdown",
    "deepnote_cell_height": 62
   }
  },
  {
   "cell_type": "code",
   "metadata": {
    "cell_id": "00002-7cc865b4-2c1d-42bf-8bb9-7b3752687941",
    "deepnote_to_be_reexecuted": false,
    "source_hash": "d3e4c8fd",
    "execution_start": 1651199856332,
    "execution_millis": 1,
    "deepnote_cell_type": "code",
    "deepnote_cell_height": 153
   },
   "source": "# import libraries\nimport numpy as np\nimport pandas as pd\nimport spotipy\nimport os",
   "outputs": [],
   "execution_count": null
  },
  {
   "cell_type": "markdown",
   "source": "### Read in data",
   "metadata": {
    "cell_id": "00003-e53632b1-ed8f-43fa-8cfd-6440ecf829b2",
    "deepnote_cell_type": "markdown",
    "deepnote_cell_height": 62
   }
  },
  {
   "cell_type": "code",
   "metadata": {
    "cell_id": "00004-5b1e7620-044e-4951-96eb-507ef103e6b4",
    "deepnote_to_be_reexecuted": false,
    "source_hash": "b08a87b9",
    "execution_start": 1651199857131,
    "execution_millis": 933,
    "deepnote_cell_type": "code",
    "deepnote_cell_height": 672
   },
   "source": "# read in data and display first ten rows of the songs dataset as example\nspotify_data = pd.read_csv('./data/data.csv.zip')\ngenre_data = pd.read_csv('./data/data_by_genres.csv')\ndata_by_year = pd.read_csv('./data/data_by_year.csv')\nspotify_data.head(10)",
   "outputs": [
    {
     "output_type": "execute_result",
     "execution_count": 9,
     "data": {
      "application/vnd.deepnote.dataframe.v3+json": {
       "column_count": 19,
       "row_count": 10,
       "columns": [
        {
         "name": "valence",
         "dtype": "float64",
         "stats": {
          "unique_count": 10,
          "nan_count": 0,
          "min": "0.0394",
          "max": "0.963",
          "histogram": [
           {
            "bin_start": 0.0394,
            "bin_end": 0.13176,
            "count": 3
           },
           {
            "bin_start": 0.13176,
            "bin_end": 0.22411999999999999,
            "count": 2
           },
           {
            "bin_start": 0.22411999999999999,
            "bin_end": 0.31648,
            "count": 1
           },
           {
            "bin_start": 0.31648,
            "bin_end": 0.40884,
            "count": 1
           },
           {
            "bin_start": 0.40884,
            "bin_end": 0.5012,
            "count": 0
           },
           {
            "bin_start": 0.5012,
            "bin_end": 0.59356,
            "count": 0
           },
           {
            "bin_start": 0.59356,
            "bin_end": 0.68592,
            "count": 0
           },
           {
            "bin_start": 0.68592,
            "bin_end": 0.77828,
            "count": 2
           },
           {
            "bin_start": 0.77828,
            "bin_end": 0.87064,
            "count": 0
           },
           {
            "bin_start": 0.87064,
            "bin_end": 0.963,
            "count": 1
           }
          ]
         }
        },
        {
         "name": "year",
         "dtype": "int64",
         "stats": {
          "unique_count": 1,
          "nan_count": 0,
          "min": "1921",
          "max": "1921",
          "histogram": [
           {
            "bin_start": 1920.5,
            "bin_end": 1920.6,
            "count": 0
           },
           {
            "bin_start": 1920.6,
            "bin_end": 1920.7,
            "count": 0
           },
           {
            "bin_start": 1920.7,
            "bin_end": 1920.8,
            "count": 0
           },
           {
            "bin_start": 1920.8,
            "bin_end": 1920.9,
            "count": 0
           },
           {
            "bin_start": 1920.9,
            "bin_end": 1921,
            "count": 0
           },
           {
            "bin_start": 1921,
            "bin_end": 1921.1,
            "count": 10
           },
           {
            "bin_start": 1921.1,
            "bin_end": 1921.2,
            "count": 0
           },
           {
            "bin_start": 1921.2,
            "bin_end": 1921.3,
            "count": 0
           },
           {
            "bin_start": 1921.3,
            "bin_end": 1921.4,
            "count": 0
           },
           {
            "bin_start": 1921.4,
            "bin_end": 1921.5,
            "count": 0
           }
          ]
         }
        },
        {
         "name": "acousticness",
         "dtype": "float64",
         "stats": {
          "unique_count": 8,
          "nan_count": 0,
          "min": "0.579",
          "max": "0.996",
          "histogram": [
           {
            "bin_start": 0.579,
            "bin_end": 0.6206999999999999,
            "count": 1
           },
           {
            "bin_start": 0.6206999999999999,
            "bin_end": 0.6624,
            "count": 0
           },
           {
            "bin_start": 0.6624,
            "bin_end": 0.7041,
            "count": 0
           },
           {
            "bin_start": 0.7041,
            "bin_end": 0.7458,
            "count": 1
           },
           {
            "bin_start": 0.7458,
            "bin_end": 0.7875,
            "count": 0
           },
           {
            "bin_start": 0.7875,
            "bin_end": 0.8291999999999999,
            "count": 0
           },
           {
            "bin_start": 0.8291999999999999,
            "bin_end": 0.8709,
            "count": 0
           },
           {
            "bin_start": 0.8709,
            "bin_end": 0.9126,
            "count": 0
           },
           {
            "bin_start": 0.9126,
            "bin_end": 0.9542999999999999,
            "count": 0
           },
           {
            "bin_start": 0.9542999999999999,
            "bin_end": 0.996,
            "count": 8
           }
          ]
         }
        },
        {
         "name": "artists",
         "dtype": "object",
         "stats": {
          "unique_count": 9,
          "nan_count": 0,
          "categories": [
           {
            "name": "['KHP Kridhamardawa Karaton Ngayogyakarta Hadiningrat']",
            "count": 2
           },
           {
            "name": "['Sergei Rachmaninoff', 'James Levine', 'Berliner Philharmoniker']",
            "count": 1
           },
           {
            "name": "7 others",
            "count": 7
           }
          ]
         }
        },
        {
         "name": "danceability",
         "dtype": "float64",
         "stats": {
          "unique_count": 10,
          "nan_count": 0,
          "min": "0.275",
          "max": "0.8190000000000001",
          "histogram": [
           {
            "bin_start": 0.275,
            "bin_end": 0.3294,
            "count": 3
           },
           {
            "bin_start": 0.3294,
            "bin_end": 0.38380000000000003,
            "count": 0
           },
           {
            "bin_start": 0.38380000000000003,
            "bin_end": 0.43820000000000003,
            "count": 2
           },
           {
            "bin_start": 0.43820000000000003,
            "bin_end": 0.49260000000000004,
            "count": 1
           },
           {
            "bin_start": 0.49260000000000004,
            "bin_end": 0.547,
            "count": 1
           },
           {
            "bin_start": 0.547,
            "bin_end": 0.6014,
            "count": 0
           },
           {
            "bin_start": 0.6014,
            "bin_end": 0.6558,
            "count": 0
           },
           {
            "bin_start": 0.6558,
            "bin_end": 0.7102,
            "count": 2
           },
           {
            "bin_start": 0.7102,
            "bin_end": 0.7646000000000001,
            "count": 0
           },
           {
            "bin_start": 0.7646000000000001,
            "bin_end": 0.8190000000000001,
            "count": 1
           }
          ]
         }
        },
        {
         "name": "duration_ms",
         "dtype": "int64",
         "stats": {
          "unique_count": 10,
          "nan_count": 0,
          "min": "159507",
          "max": "831667",
          "histogram": [
           {
            "bin_start": 159507,
            "bin_end": 226723,
            "count": 7
           },
           {
            "bin_start": 226723,
            "bin_end": 293939,
            "count": 0
           },
           {
            "bin_start": 293939,
            "bin_end": 361155,
            "count": 0
           },
           {
            "bin_start": 361155,
            "bin_end": 428371,
            "count": 1
           },
           {
            "bin_start": 428371,
            "bin_end": 495587,
            "count": 0
           },
           {
            "bin_start": 495587,
            "bin_end": 562803,
            "count": 1
           },
           {
            "bin_start": 562803,
            "bin_end": 630019,
            "count": 0
           },
           {
            "bin_start": 630019,
            "bin_end": 697235,
            "count": 0
           },
           {
            "bin_start": 697235,
            "bin_end": 764451,
            "count": 0
           },
           {
            "bin_start": 764451,
            "bin_end": 831667,
            "count": 1
           }
          ]
         }
        },
        {
         "name": "energy",
         "dtype": "float64",
         "stats": {
          "unique_count": 10,
          "nan_count": 0,
          "min": "0.088",
          "max": "0.346",
          "histogram": [
           {
            "bin_start": 0.088,
            "bin_end": 0.1138,
            "count": 1
           },
           {
            "bin_start": 0.1138,
            "bin_end": 0.1396,
            "count": 1
           },
           {
            "bin_start": 0.1396,
            "bin_end": 0.1654,
            "count": 0
           },
           {
            "bin_start": 0.1654,
            "bin_end": 0.19119999999999998,
            "count": 1
           },
           {
            "bin_start": 0.19119999999999998,
            "bin_end": 0.217,
            "count": 3
           },
           {
            "bin_start": 0.217,
            "bin_end": 0.2428,
            "count": 0
           },
           {
            "bin_start": 0.2428,
            "bin_end": 0.2686,
            "count": 1
           },
           {
            "bin_start": 0.2686,
            "bin_end": 0.2944,
            "count": 0
           },
           {
            "bin_start": 0.2944,
            "bin_end": 0.3202,
            "count": 1
           },
           {
            "bin_start": 0.3202,
            "bin_end": 0.346,
            "count": 2
           }
          ]
         }
        },
        {
         "name": "explicit",
         "dtype": "int64",
         "stats": {
          "unique_count": 1,
          "nan_count": 0,
          "min": "0",
          "max": "0",
          "histogram": [
           {
            "bin_start": -0.5,
            "bin_end": -0.4,
            "count": 0
           },
           {
            "bin_start": -0.4,
            "bin_end": -0.3,
            "count": 0
           },
           {
            "bin_start": -0.3,
            "bin_end": -0.19999999999999996,
            "count": 0
           },
           {
            "bin_start": -0.19999999999999996,
            "bin_end": -0.09999999999999998,
            "count": 0
           },
           {
            "bin_start": -0.09999999999999998,
            "bin_end": 0,
            "count": 0
           },
           {
            "bin_start": 0,
            "bin_end": 0.10000000000000009,
            "count": 10
           },
           {
            "bin_start": 0.10000000000000009,
            "bin_end": 0.20000000000000007,
            "count": 0
           },
           {
            "bin_start": 0.20000000000000007,
            "bin_end": 0.30000000000000004,
            "count": 0
           },
           {
            "bin_start": 0.30000000000000004,
            "bin_end": 0.4,
            "count": 0
           },
           {
            "bin_start": 0.4,
            "bin_end": 0.5,
            "count": 0
           }
          ]
         }
        },
        {
         "name": "id",
         "dtype": "object",
         "stats": {
          "unique_count": 10,
          "nan_count": 0,
          "categories": [
           {
            "name": "4BJqT0PrAfrxzMOxytFOIz",
            "count": 1
           },
           {
            "name": "7xPhfUan2yNtyFG0cUWkt8",
            "count": 1
           },
           {
            "name": "8 others",
            "count": 8
           }
          ]
         }
        },
        {
         "name": "instrumentalness",
         "dtype": "float64",
         "stats": {
          "unique_count": 8,
          "nan_count": 0,
          "min": "0.0",
          "max": "0.913",
          "histogram": [
           {
            "bin_start": 0,
            "bin_end": 0.0913,
            "count": 5
           },
           {
            "bin_start": 0.0913,
            "bin_end": 0.1826,
            "count": 2
           },
           {
            "bin_start": 0.1826,
            "bin_end": 0.27390000000000003,
            "count": 0
           },
           {
            "bin_start": 0.27390000000000003,
            "bin_end": 0.3652,
            "count": 0
           },
           {
            "bin_start": 0.3652,
            "bin_end": 0.4565,
            "count": 0
           },
           {
            "bin_start": 0.4565,
            "bin_end": 0.5478000000000001,
            "count": 1
           },
           {
            "bin_start": 0.5478000000000001,
            "bin_end": 0.6391,
            "count": 0
           },
           {
            "bin_start": 0.6391,
            "bin_end": 0.7304,
            "count": 0
           },
           {
            "bin_start": 0.7304,
            "bin_end": 0.8217000000000001,
            "count": 0
           },
           {
            "bin_start": 0.8217000000000001,
            "bin_end": 0.913,
            "count": 2
           }
          ]
         }
        },
        {
         "name": "key",
         "dtype": "int64",
         "stats": {
          "unique_count": 8,
          "nan_count": 0,
          "min": "0",
          "max": "10",
          "histogram": [
           {
            "bin_start": 0,
            "bin_end": 1,
            "count": 1
           },
           {
            "bin_start": 1,
            "bin_end": 2,
            "count": 1
           },
           {
            "bin_start": 2,
            "bin_end": 3,
            "count": 1
           },
           {
            "bin_start": 3,
            "bin_end": 4,
            "count": 2
           },
           {
            "bin_start": 4,
            "bin_end": 5,
            "count": 0
           },
           {
            "bin_start": 5,
            "bin_end": 6,
            "count": 2
           },
           {
            "bin_start": 6,
            "bin_end": 7,
            "count": 0
           },
           {
            "bin_start": 7,
            "bin_end": 8,
            "count": 1
           },
           {
            "bin_start": 8,
            "bin_end": 9,
            "count": 1
           },
           {
            "bin_start": 9,
            "bin_end": 10,
            "count": 1
           }
          ]
         }
        },
        {
         "name": "liveness",
         "dtype": "float64",
         "stats": {
          "unique_count": 10,
          "nan_count": 0,
          "min": "0.101",
          "max": "0.665",
          "histogram": [
           {
            "bin_start": 0.101,
            "bin_end": 0.1574,
            "count": 4
           },
           {
            "bin_start": 0.1574,
            "bin_end": 0.21380000000000002,
            "count": 1
           },
           {
            "bin_start": 0.21380000000000002,
            "bin_end": 0.2702,
            "count": 1
           },
           {
            "bin_start": 0.2702,
            "bin_end": 0.3266,
            "count": 0
           },
           {
            "bin_start": 0.3266,
            "bin_end": 0.383,
            "count": 2
           },
           {
            "bin_start": 0.383,
            "bin_end": 0.4394,
            "count": 0
           },
           {
            "bin_start": 0.4394,
            "bin_end": 0.4958,
            "count": 0
           },
           {
            "bin_start": 0.4958,
            "bin_end": 0.5522,
            "count": 1
           },
           {
            "bin_start": 0.5522,
            "bin_end": 0.6086,
            "count": 0
           },
           {
            "bin_start": 0.6086,
            "bin_end": 0.665,
            "count": 1
           }
          ]
         }
        },
        {
         "name": "loudness",
         "dtype": "float64",
         "stats": {
          "unique_count": 10,
          "nan_count": 0,
          "min": "-21.50800000000001",
          "max": "-9.316",
          "histogram": [
           {
            "bin_start": -21.50800000000001,
            "bin_end": -20.28880000000001,
            "count": 2
           },
           {
            "bin_start": -20.28880000000001,
            "bin_end": -19.06960000000001,
            "count": 1
           },
           {
            "bin_start": -19.06960000000001,
            "bin_end": -17.850400000000008,
            "count": 0
           },
           {
            "bin_start": -17.850400000000008,
            "bin_end": -16.631200000000007,
            "count": 0
           },
           {
            "bin_start": -16.631200000000007,
            "bin_end": -15.412000000000006,
            "count": 1
           },
           {
            "bin_start": -15.412000000000006,
            "bin_end": -14.192800000000004,
            "count": 1
           },
           {
            "bin_start": -14.192800000000004,
            "bin_end": -12.973600000000003,
            "count": 0
           },
           {
            "bin_start": -12.973600000000003,
            "bin_end": -11.754400000000002,
            "count": 2
           },
           {
            "bin_start": -11.754400000000002,
            "bin_end": -10.535200000000001,
            "count": 1
           },
           {
            "bin_start": -10.535200000000001,
            "bin_end": -9.316,
            "count": 2
           }
          ]
         }
        },
        {
         "name": "mode",
         "dtype": "int64",
         "stats": {
          "unique_count": 2,
          "nan_count": 0,
          "min": "0",
          "max": "1",
          "histogram": [
           {
            "bin_start": 0,
            "bin_end": 0.1,
            "count": 2
           },
           {
            "bin_start": 0.1,
            "bin_end": 0.2,
            "count": 0
           },
           {
            "bin_start": 0.2,
            "bin_end": 0.30000000000000004,
            "count": 0
           },
           {
            "bin_start": 0.30000000000000004,
            "bin_end": 0.4,
            "count": 0
           },
           {
            "bin_start": 0.4,
            "bin_end": 0.5,
            "count": 0
           },
           {
            "bin_start": 0.5,
            "bin_end": 0.6000000000000001,
            "count": 0
           },
           {
            "bin_start": 0.6000000000000001,
            "bin_end": 0.7000000000000001,
            "count": 0
           },
           {
            "bin_start": 0.7000000000000001,
            "bin_end": 0.8,
            "count": 0
           },
           {
            "bin_start": 0.8,
            "bin_end": 0.9,
            "count": 0
           },
           {
            "bin_start": 0.9,
            "bin_end": 1,
            "count": 8
           }
          ]
         }
        },
        {
         "name": "name",
         "dtype": "object",
         "stats": {
          "unique_count": 10,
          "nan_count": 0,
          "categories": [
           {
            "name": "Piano Concerto No. 3 in D Minor, Op. 30: III. Finale. Alla breve",
            "count": 1
           },
           {
            "name": "Clancy Lowered the Boom",
            "count": 1
           },
           {
            "name": "8 others",
            "count": 8
           }
          ]
         }
        },
        {
         "name": "popularity",
         "dtype": "int64",
         "stats": {
          "unique_count": 6,
          "nan_count": 0,
          "min": "0",
          "max": "6",
          "histogram": [
           {
            "bin_start": 0,
            "bin_end": 0.6,
            "count": 2
           },
           {
            "bin_start": 0.6,
            "bin_end": 1.2,
            "count": 0
           },
           {
            "bin_start": 1.2,
            "bin_end": 1.7999999999999998,
            "count": 0
           },
           {
            "bin_start": 1.7999999999999998,
            "bin_end": 2.4,
            "count": 2
           },
           {
            "bin_start": 2.4,
            "bin_end": 3,
            "count": 0
           },
           {
            "bin_start": 3,
            "bin_end": 3.5999999999999996,
            "count": 1
           },
           {
            "bin_start": 3.5999999999999996,
            "bin_end": 4.2,
            "count": 2
           },
           {
            "bin_start": 4.2,
            "bin_end": 4.8,
            "count": 0
           },
           {
            "bin_start": 4.8,
            "bin_end": 5.3999999999999995,
            "count": 2
           },
           {
            "bin_start": 5.3999999999999995,
            "bin_end": 6,
            "count": 1
           }
          ]
         }
        },
        {
         "name": "release_date",
         "dtype": "object",
         "stats": {
          "unique_count": 2,
          "nan_count": 0,
          "categories": [
           {
            "name": "1921",
            "count": 9
           },
           {
            "name": "1921-03-20",
            "count": 1
           }
          ]
         }
        },
        {
         "name": "speechiness",
         "dtype": "float64",
         "stats": {
          "unique_count": 10,
          "nan_count": 0,
          "min": "0.0339",
          "max": "0.415",
          "histogram": [
           {
            "bin_start": 0.0339,
            "bin_end": 0.07200999999999999,
            "count": 8
           },
           {
            "bin_start": 0.07200999999999999,
            "bin_end": 0.11012,
            "count": 0
           },
           {
            "bin_start": 0.11012,
            "bin_end": 0.14822999999999997,
            "count": 0
           },
           {
            "bin_start": 0.14822999999999997,
            "bin_end": 0.18634,
            "count": 0
           },
           {
            "bin_start": 0.18634,
            "bin_end": 0.22444999999999998,
            "count": 0
           },
           {
            "bin_start": 0.22444999999999998,
            "bin_end": 0.26255999999999996,
            "count": 0
           },
           {
            "bin_start": 0.26255999999999996,
            "bin_end": 0.30067,
            "count": 0
           },
           {
            "bin_start": 0.30067,
            "bin_end": 0.33877999999999997,
            "count": 0
           },
           {
            "bin_start": 0.33877999999999997,
            "bin_end": 0.37688999999999995,
            "count": 0
           },
           {
            "bin_start": 0.37688999999999995,
            "bin_end": 0.415,
            "count": 2
           }
          ]
         }
        },
        {
         "name": "tempo",
         "dtype": "float64",
         "stats": {
          "unique_count": 10,
          "nan_count": 0,
          "min": "60.93600000000001",
          "max": "119.824",
          "histogram": [
           {
            "bin_start": 60.93600000000001,
            "bin_end": 66.82480000000001,
            "count": 3
           },
           {
            "bin_start": 66.82480000000001,
            "bin_end": 72.7136,
            "count": 0
           },
           {
            "bin_start": 72.7136,
            "bin_end": 78.6024,
            "count": 0
           },
           {
            "bin_start": 78.6024,
            "bin_end": 84.4912,
            "count": 1
           },
           {
            "bin_start": 84.4912,
            "bin_end": 90.38,
            "count": 0
           },
           {
            "bin_start": 90.38,
            "bin_end": 96.2688,
            "count": 1
           },
           {
            "bin_start": 96.2688,
            "bin_end": 102.1576,
            "count": 2
           },
           {
            "bin_start": 102.1576,
            "bin_end": 108.0464,
            "count": 0
           },
           {
            "bin_start": 108.0464,
            "bin_end": 113.9352,
            "count": 2
           },
           {
            "bin_start": 113.9352,
            "bin_end": 119.824,
            "count": 1
           }
          ]
         }
        },
        {
         "name": "_deepnote_index_column",
         "dtype": "int64"
        }
       ],
       "rows": [
        {
         "valence": 0.0594,
         "year": 1921,
         "acousticness": 0.982,
         "artists": "['Sergei Rachmaninoff', 'James Levine', 'Berliner Philharmoniker']",
         "danceability": 0.279,
         "duration_ms": 831667,
         "energy": 0.211,
         "explicit": 0,
         "id": "4BJqT0PrAfrxzMOxytFOIz",
         "instrumentalness": 0.878,
         "key": 10,
         "liveness": 0.665,
         "loudness": -20.096,
         "mode": 1,
         "name": "Piano Concerto No. 3 in D Minor, Op. 30: III. Finale. Alla breve",
         "popularity": 4,
         "release_date": "1921",
         "speechiness": 0.0366,
         "tempo": 80.954,
         "_deepnote_index_column": 0
        },
        {
         "valence": 0.963,
         "year": 1921,
         "acousticness": 0.732,
         "artists": "['Dennis Day']",
         "danceability": 0.8190000000000001,
         "duration_ms": 180533,
         "energy": 0.341,
         "explicit": 0,
         "id": "7xPhfUan2yNtyFG0cUWkt8",
         "instrumentalness": 0,
         "key": 7,
         "liveness": 0.16,
         "loudness": -12.441,
         "mode": 1,
         "name": "Clancy Lowered the Boom",
         "popularity": 5,
         "release_date": "1921",
         "speechiness": 0.415,
         "tempo": 60.93600000000001,
         "_deepnote_index_column": 1
        },
        {
         "valence": 0.0394,
         "year": 1921,
         "acousticness": 0.961,
         "artists": "['KHP Kridhamardawa Karaton Ngayogyakarta Hadiningrat']",
         "danceability": 0.328,
         "duration_ms": 500062,
         "energy": 0.166,
         "explicit": 0,
         "id": "1o6I8BglA6ylDMrIELygv1",
         "instrumentalness": 0.913,
         "key": 3,
         "liveness": 0.101,
         "loudness": -14.85,
         "mode": 1,
         "name": "Gati Bali",
         "popularity": 5,
         "release_date": "1921",
         "speechiness": 0.0339,
         "tempo": 110.339,
         "_deepnote_index_column": 2
        },
        {
         "valence": 0.165,
         "year": 1921,
         "acousticness": 0.967,
         "artists": "['Frank Parker']",
         "danceability": 0.275,
         "duration_ms": 210000,
         "energy": 0.309,
         "explicit": 0,
         "id": "3ftBPsC5vPBKxYSee08FDH",
         "instrumentalness": 0.0000277,
         "key": 5,
         "liveness": 0.381,
         "loudness": -9.316,
         "mode": 1,
         "name": "Danny Boy",
         "popularity": 3,
         "release_date": "1921",
         "speechiness": 0.0354,
         "tempo": 100.109,
         "_deepnote_index_column": 3
        },
        {
         "valence": 0.253,
         "year": 1921,
         "acousticness": 0.957,
         "artists": "['Phil Regan']",
         "danceability": 0.418,
         "duration_ms": 166693,
         "energy": 0.193,
         "explicit": 0,
         "id": "4d6HGyGT8e121BsdKmw9v6",
         "instrumentalness": 0.00000168,
         "key": 3,
         "liveness": 0.229,
         "loudness": -10.096,
         "mode": 1,
         "name": "When Irish Eyes Are Smiling",
         "popularity": 2,
         "release_date": "1921",
         "speechiness": 0.038,
         "tempo": 101.665,
         "_deepnote_index_column": 4
        },
        {
         "valence": 0.196,
         "year": 1921,
         "acousticness": 0.579,
         "artists": "['KHP Kridhamardawa Karaton Ngayogyakarta Hadiningrat']",
         "danceability": 0.6970000000000001,
         "duration_ms": 395076,
         "energy": 0.346,
         "explicit": 0,
         "id": "4pyw9DVHGStUre4J6hPngr",
         "instrumentalness": 0.168,
         "key": 2,
         "liveness": 0.13,
         "loudness": -12.505999999999998,
         "mode": 1,
         "name": "Gati Mardika",
         "popularity": 6,
         "release_date": "1921",
         "speechiness": 0.07,
         "tempo": 119.824,
         "_deepnote_index_column": 5
        },
        {
         "valence": 0.406,
         "year": 1921,
         "acousticness": 0.996,
         "artists": "['John McCormack']",
         "danceability": 0.518,
         "duration_ms": 159507,
         "energy": 0.203,
         "explicit": 0,
         "id": "5uNZnElqOS3W4fRmRYPk4T",
         "instrumentalness": 0,
         "key": 0,
         "liveness": 0.115,
         "loudness": -10.589,
         "mode": 1,
         "name": "The Wearing of the Green",
         "popularity": 4,
         "release_date": "1921",
         "speechiness": 0.0615,
         "tempo": 66.221,
         "_deepnote_index_column": 6
        },
        {
         "valence": 0.0731,
         "year": 1921,
         "acousticness": 0.993,
         "artists": "['Sergei Rachmaninoff']",
         "danceability": 0.389,
         "duration_ms": 218773,
         "energy": 0.088,
         "explicit": 0,
         "id": "02GDntOXexBFUvSgaXLPkd",
         "instrumentalness": 0.527,
         "key": 1,
         "liveness": 0.363,
         "loudness": -21.091,
         "mode": 0,
         "name": "Morceaux de fantaisie, Op. 3: No. 2, Prélude in C-Sharp Minor. Lento",
         "popularity": 2,
         "release_date": "1921",
         "speechiness": 0.0456,
         "tempo": 92.867,
         "_deepnote_index_column": 7
        },
        {
         "valence": 0.721,
         "year": 1921,
         "acousticness": 0.996,
         "artists": "['Ignacio Corsini']",
         "danceability": 0.485,
         "duration_ms": 161520,
         "energy": 0.13,
         "explicit": 0,
         "id": "05xDjWH9ub67nJJk82yfGf",
         "instrumentalness": 0.151,
         "key": 5,
         "liveness": 0.104,
         "loudness": -21.50800000000001,
         "mode": 0,
         "name": "La Mañanita - Remasterizado",
         "popularity": 0,
         "release_date": "1921-03-20",
         "speechiness": 0.0483,
         "tempo": 64.678,
         "_deepnote_index_column": 8
        },
        {
         "valence": 0.7709999999999999,
         "year": 1921,
         "acousticness": 0.982,
         "artists": "['Fortugé']",
         "danceability": 0.684,
         "duration_ms": 196560,
         "energy": 0.257,
         "explicit": 0,
         "id": "08zfJvRLp7pjAb94MA9JmF",
         "instrumentalness": 0,
         "key": 8,
         "liveness": 0.504,
         "loudness": -16.415,
         "mode": 1,
         "name": "Il Etait Syndiqué",
         "popularity": 0,
         "release_date": "1921",
         "speechiness": 0.399,
         "tempo": 109.378,
         "_deepnote_index_column": 9
        }
       ]
      },
      "text/plain": "   valence  year  acousticness  \\\n0   0.0594  1921         0.982   \n1   0.9630  1921         0.732   \n2   0.0394  1921         0.961   \n3   0.1650  1921         0.967   \n4   0.2530  1921         0.957   \n5   0.1960  1921         0.579   \n6   0.4060  1921         0.996   \n7   0.0731  1921         0.993   \n8   0.7210  1921         0.996   \n9   0.7710  1921         0.982   \n\n                                             artists  danceability  \\\n0  ['Sergei Rachmaninoff', 'James Levine', 'Berli...         0.279   \n1                                     ['Dennis Day']         0.819   \n2  ['KHP Kridhamardawa Karaton Ngayogyakarta Hadi...         0.328   \n3                                   ['Frank Parker']         0.275   \n4                                     ['Phil Regan']         0.418   \n5  ['KHP Kridhamardawa Karaton Ngayogyakarta Hadi...         0.697   \n6                                 ['John McCormack']         0.518   \n7                            ['Sergei Rachmaninoff']         0.389   \n8                                ['Ignacio Corsini']         0.485   \n9                                        ['Fortugé']         0.684   \n\n   duration_ms  energy  explicit                      id  instrumentalness  \\\n0       831667   0.211         0  4BJqT0PrAfrxzMOxytFOIz          0.878000   \n1       180533   0.341         0  7xPhfUan2yNtyFG0cUWkt8          0.000000   \n2       500062   0.166         0  1o6I8BglA6ylDMrIELygv1          0.913000   \n3       210000   0.309         0  3ftBPsC5vPBKxYSee08FDH          0.000028   \n4       166693   0.193         0  4d6HGyGT8e121BsdKmw9v6          0.000002   \n5       395076   0.346         0  4pyw9DVHGStUre4J6hPngr          0.168000   \n6       159507   0.203         0  5uNZnElqOS3W4fRmRYPk4T          0.000000   \n7       218773   0.088         0  02GDntOXexBFUvSgaXLPkd          0.527000   \n8       161520   0.130         0  05xDjWH9ub67nJJk82yfGf          0.151000   \n9       196560   0.257         0  08zfJvRLp7pjAb94MA9JmF          0.000000   \n\n   key  liveness  loudness  mode  \\\n0   10     0.665   -20.096     1   \n1    7     0.160   -12.441     1   \n2    3     0.101   -14.850     1   \n3    5     0.381    -9.316     1   \n4    3     0.229   -10.096     1   \n5    2     0.130   -12.506     1   \n6    0     0.115   -10.589     1   \n7    1     0.363   -21.091     0   \n8    5     0.104   -21.508     0   \n9    8     0.504   -16.415     1   \n\n                                                name  popularity release_date  \\\n0  Piano Concerto No. 3 in D Minor, Op. 30: III. ...           4         1921   \n1                            Clancy Lowered the Boom           5         1921   \n2                                          Gati Bali           5         1921   \n3                                          Danny Boy           3         1921   \n4                        When Irish Eyes Are Smiling           2         1921   \n5                                       Gati Mardika           6         1921   \n6                           The Wearing of the Green           4         1921   \n7  Morceaux de fantaisie, Op. 3: No. 2, Prélude i...           2         1921   \n8                        La Mañanita - Remasterizado           0   1921-03-20   \n9                                  Il Etait Syndiqué           0         1921   \n\n   speechiness    tempo  \n0       0.0366   80.954  \n1       0.4150   60.936  \n2       0.0339  110.339  \n3       0.0354  100.109  \n4       0.0380  101.665  \n5       0.0700  119.824  \n6       0.0615   66.221  \n7       0.0456   92.867  \n8       0.0483   64.678  \n9       0.3990  109.378  ",
      "text/html": "<div>\n<style scoped>\n    .dataframe tbody tr th:only-of-type {\n        vertical-align: middle;\n    }\n\n    .dataframe tbody tr th {\n        vertical-align: top;\n    }\n\n    .dataframe thead th {\n        text-align: right;\n    }\n</style>\n<table border=\"1\" class=\"dataframe\">\n  <thead>\n    <tr style=\"text-align: right;\">\n      <th></th>\n      <th>valence</th>\n      <th>year</th>\n      <th>acousticness</th>\n      <th>artists</th>\n      <th>danceability</th>\n      <th>duration_ms</th>\n      <th>energy</th>\n      <th>explicit</th>\n      <th>id</th>\n      <th>instrumentalness</th>\n      <th>key</th>\n      <th>liveness</th>\n      <th>loudness</th>\n      <th>mode</th>\n      <th>name</th>\n      <th>popularity</th>\n      <th>release_date</th>\n      <th>speechiness</th>\n      <th>tempo</th>\n    </tr>\n  </thead>\n  <tbody>\n    <tr>\n      <th>0</th>\n      <td>0.0594</td>\n      <td>1921</td>\n      <td>0.982</td>\n      <td>['Sergei Rachmaninoff', 'James Levine', 'Berli...</td>\n      <td>0.279</td>\n      <td>831667</td>\n      <td>0.211</td>\n      <td>0</td>\n      <td>4BJqT0PrAfrxzMOxytFOIz</td>\n      <td>0.878000</td>\n      <td>10</td>\n      <td>0.665</td>\n      <td>-20.096</td>\n      <td>1</td>\n      <td>Piano Concerto No. 3 in D Minor, Op. 30: III. ...</td>\n      <td>4</td>\n      <td>1921</td>\n      <td>0.0366</td>\n      <td>80.954</td>\n    </tr>\n    <tr>\n      <th>1</th>\n      <td>0.9630</td>\n      <td>1921</td>\n      <td>0.732</td>\n      <td>['Dennis Day']</td>\n      <td>0.819</td>\n      <td>180533</td>\n      <td>0.341</td>\n      <td>0</td>\n      <td>7xPhfUan2yNtyFG0cUWkt8</td>\n      <td>0.000000</td>\n      <td>7</td>\n      <td>0.160</td>\n      <td>-12.441</td>\n      <td>1</td>\n      <td>Clancy Lowered the Boom</td>\n      <td>5</td>\n      <td>1921</td>\n      <td>0.4150</td>\n      <td>60.936</td>\n    </tr>\n    <tr>\n      <th>2</th>\n      <td>0.0394</td>\n      <td>1921</td>\n      <td>0.961</td>\n      <td>['KHP Kridhamardawa Karaton Ngayogyakarta Hadi...</td>\n      <td>0.328</td>\n      <td>500062</td>\n      <td>0.166</td>\n      <td>0</td>\n      <td>1o6I8BglA6ylDMrIELygv1</td>\n      <td>0.913000</td>\n      <td>3</td>\n      <td>0.101</td>\n      <td>-14.850</td>\n      <td>1</td>\n      <td>Gati Bali</td>\n      <td>5</td>\n      <td>1921</td>\n      <td>0.0339</td>\n      <td>110.339</td>\n    </tr>\n    <tr>\n      <th>3</th>\n      <td>0.1650</td>\n      <td>1921</td>\n      <td>0.967</td>\n      <td>['Frank Parker']</td>\n      <td>0.275</td>\n      <td>210000</td>\n      <td>0.309</td>\n      <td>0</td>\n      <td>3ftBPsC5vPBKxYSee08FDH</td>\n      <td>0.000028</td>\n      <td>5</td>\n      <td>0.381</td>\n      <td>-9.316</td>\n      <td>1</td>\n      <td>Danny Boy</td>\n      <td>3</td>\n      <td>1921</td>\n      <td>0.0354</td>\n      <td>100.109</td>\n    </tr>\n    <tr>\n      <th>4</th>\n      <td>0.2530</td>\n      <td>1921</td>\n      <td>0.957</td>\n      <td>['Phil Regan']</td>\n      <td>0.418</td>\n      <td>166693</td>\n      <td>0.193</td>\n      <td>0</td>\n      <td>4d6HGyGT8e121BsdKmw9v6</td>\n      <td>0.000002</td>\n      <td>3</td>\n      <td>0.229</td>\n      <td>-10.096</td>\n      <td>1</td>\n      <td>When Irish Eyes Are Smiling</td>\n      <td>2</td>\n      <td>1921</td>\n      <td>0.0380</td>\n      <td>101.665</td>\n    </tr>\n    <tr>\n      <th>5</th>\n      <td>0.1960</td>\n      <td>1921</td>\n      <td>0.579</td>\n      <td>['KHP Kridhamardawa Karaton Ngayogyakarta Hadi...</td>\n      <td>0.697</td>\n      <td>395076</td>\n      <td>0.346</td>\n      <td>0</td>\n      <td>4pyw9DVHGStUre4J6hPngr</td>\n      <td>0.168000</td>\n      <td>2</td>\n      <td>0.130</td>\n      <td>-12.506</td>\n      <td>1</td>\n      <td>Gati Mardika</td>\n      <td>6</td>\n      <td>1921</td>\n      <td>0.0700</td>\n      <td>119.824</td>\n    </tr>\n    <tr>\n      <th>6</th>\n      <td>0.4060</td>\n      <td>1921</td>\n      <td>0.996</td>\n      <td>['John McCormack']</td>\n      <td>0.518</td>\n      <td>159507</td>\n      <td>0.203</td>\n      <td>0</td>\n      <td>5uNZnElqOS3W4fRmRYPk4T</td>\n      <td>0.000000</td>\n      <td>0</td>\n      <td>0.115</td>\n      <td>-10.589</td>\n      <td>1</td>\n      <td>The Wearing of the Green</td>\n      <td>4</td>\n      <td>1921</td>\n      <td>0.0615</td>\n      <td>66.221</td>\n    </tr>\n    <tr>\n      <th>7</th>\n      <td>0.0731</td>\n      <td>1921</td>\n      <td>0.993</td>\n      <td>['Sergei Rachmaninoff']</td>\n      <td>0.389</td>\n      <td>218773</td>\n      <td>0.088</td>\n      <td>0</td>\n      <td>02GDntOXexBFUvSgaXLPkd</td>\n      <td>0.527000</td>\n      <td>1</td>\n      <td>0.363</td>\n      <td>-21.091</td>\n      <td>0</td>\n      <td>Morceaux de fantaisie, Op. 3: No. 2, Prélude i...</td>\n      <td>2</td>\n      <td>1921</td>\n      <td>0.0456</td>\n      <td>92.867</td>\n    </tr>\n    <tr>\n      <th>8</th>\n      <td>0.7210</td>\n      <td>1921</td>\n      <td>0.996</td>\n      <td>['Ignacio Corsini']</td>\n      <td>0.485</td>\n      <td>161520</td>\n      <td>0.130</td>\n      <td>0</td>\n      <td>05xDjWH9ub67nJJk82yfGf</td>\n      <td>0.151000</td>\n      <td>5</td>\n      <td>0.104</td>\n      <td>-21.508</td>\n      <td>0</td>\n      <td>La Mañanita - Remasterizado</td>\n      <td>0</td>\n      <td>1921-03-20</td>\n      <td>0.0483</td>\n      <td>64.678</td>\n    </tr>\n    <tr>\n      <th>9</th>\n      <td>0.7710</td>\n      <td>1921</td>\n      <td>0.982</td>\n      <td>['Fortugé']</td>\n      <td>0.684</td>\n      <td>196560</td>\n      <td>0.257</td>\n      <td>0</td>\n      <td>08zfJvRLp7pjAb94MA9JmF</td>\n      <td>0.000000</td>\n      <td>8</td>\n      <td>0.504</td>\n      <td>-16.415</td>\n      <td>1</td>\n      <td>Il Etait Syndiqué</td>\n      <td>0</td>\n      <td>1921</td>\n      <td>0.3990</td>\n      <td>109.378</td>\n    </tr>\n  </tbody>\n</table>\n</div>"
     },
     "metadata": {}
    }
   ],
   "execution_count": null
  },
  {
   "cell_type": "code",
   "metadata": {
    "cell_id": "00005-c24f9114-27b8-4835-b635-049c97670087",
    "deepnote_to_be_reexecuted": false,
    "source_hash": "aa9a6576",
    "execution_start": 1651199859200,
    "execution_millis": 63,
    "deepnote_cell_type": "code",
    "deepnote_cell_height": 619.59375
   },
   "source": "# get information about songs dataset\nspotify_data.info()",
   "outputs": [
    {
     "name": "stdout",
     "text": "<class 'pandas.core.frame.DataFrame'>\nRangeIndex: 170653 entries, 0 to 170652\nData columns (total 19 columns):\n #   Column            Non-Null Count   Dtype  \n---  ------            --------------   -----  \n 0   valence           170653 non-null  float64\n 1   year              170653 non-null  int64  \n 2   acousticness      170653 non-null  float64\n 3   artists           170653 non-null  object \n 4   danceability      170653 non-null  float64\n 5   duration_ms       170653 non-null  int64  \n 6   energy            170653 non-null  float64\n 7   explicit          170653 non-null  int64  \n 8   id                170653 non-null  object \n 9   instrumentalness  170653 non-null  float64\n 10  key               170653 non-null  int64  \n 11  liveness          170653 non-null  float64\n 12  loudness          170653 non-null  float64\n 13  mode              170653 non-null  int64  \n 14  name              170653 non-null  object \n 15  popularity        170653 non-null  int64  \n 16  release_date      170653 non-null  object \n 17  speechiness       170653 non-null  float64\n 18  tempo             170653 non-null  float64\ndtypes: float64(9), int64(6), object(4)\nmemory usage: 24.7+ MB\n",
     "output_type": "stream"
    }
   ],
   "execution_count": null
  },
  {
   "cell_type": "code",
   "metadata": {
    "cell_id": "00006-fe8035e1-28ba-4150-9574-b6f6677f0723",
    "deepnote_to_be_reexecuted": false,
    "source_hash": "ef45b63b",
    "execution_start": 1651199859941,
    "execution_millis": 5,
    "deepnote_cell_type": "code",
    "deepnote_cell_height": 521.59375
   },
   "source": "# get information about genres dataset\ngenre_data.info()",
   "outputs": [
    {
     "name": "stdout",
     "text": "<class 'pandas.core.frame.DataFrame'>\nRangeIndex: 2973 entries, 0 to 2972\nData columns (total 14 columns):\n #   Column            Non-Null Count  Dtype  \n---  ------            --------------  -----  \n 0   mode              2973 non-null   int64  \n 1   genres            2973 non-null   object \n 2   acousticness      2973 non-null   float64\n 3   danceability      2973 non-null   float64\n 4   duration_ms       2973 non-null   float64\n 5   energy            2973 non-null   float64\n 6   instrumentalness  2973 non-null   float64\n 7   liveness          2973 non-null   float64\n 8   loudness          2973 non-null   float64\n 9   speechiness       2973 non-null   float64\n 10  tempo             2973 non-null   float64\n 11  valence           2973 non-null   float64\n 12  popularity        2973 non-null   float64\n 13  key               2973 non-null   int64  \ndtypes: float64(11), int64(2), object(1)\nmemory usage: 325.3+ KB\n",
     "output_type": "stream"
    }
   ],
   "execution_count": null
  },
  {
   "cell_type": "code",
   "metadata": {
    "cell_id": "00007-94829f2a-566b-493a-8d6a-c07e36972a42",
    "deepnote_to_be_reexecuted": false,
    "source_hash": "7d4c4105",
    "execution_start": 1651199861566,
    "execution_millis": 4,
    "deepnote_cell_type": "code",
    "deepnote_cell_height": 521.59375
   },
   "source": "# get information about years dataset\ndata_by_year.info()",
   "outputs": [
    {
     "name": "stdout",
     "text": "<class 'pandas.core.frame.DataFrame'>\nRangeIndex: 100 entries, 0 to 99\nData columns (total 14 columns):\n #   Column            Non-Null Count  Dtype  \n---  ------            --------------  -----  \n 0   mode              100 non-null    int64  \n 1   year              100 non-null    int64  \n 2   acousticness      100 non-null    float64\n 3   danceability      100 non-null    float64\n 4   duration_ms       100 non-null    float64\n 5   energy            100 non-null    float64\n 6   instrumentalness  100 non-null    float64\n 7   liveness          100 non-null    float64\n 8   loudness          100 non-null    float64\n 9   speechiness       100 non-null    float64\n 10  tempo             100 non-null    float64\n 11  valence           100 non-null    float64\n 12  popularity        100 non-null    float64\n 13  key               100 non-null    int64  \ndtypes: float64(11), int64(3)\nmemory usage: 11.1 KB\n",
     "output_type": "stream"
    }
   ],
   "execution_count": null
  },
  {
   "cell_type": "markdown",
   "source": "### Create the pipelines that run clustering and dimensionality reduction algorithms on the song and genre datasets",
   "metadata": {
    "cell_id": "00018-7f63015f-ceef-4429-b0ee-06945d8c60eb",
    "deepnote_cell_type": "markdown",
    "deepnote_cell_height": 94
   }
  },
  {
   "cell_type": "code",
   "metadata": {
    "cell_id": "00019-bb60951f-1e45-48cb-94cb-910a76319ab7",
    "deepnote_to_be_reexecuted": false,
    "source_hash": "21b9e059",
    "execution_start": 1651199862640,
    "execution_millis": 1448,
    "deepnote_cell_type": "code",
    "deepnote_cell_height": 297
   },
   "source": "'''Cluster 2900+ genres into 10 clusters (based on similar features) \nusing the unsupervised K-means algorithm'''\n\n# import libraries\nfrom sklearn.cluster import KMeans\nfrom sklearn.preprocessing import StandardScaler\nfrom sklearn.pipeline import Pipeline\n\ncluster_pipeline = Pipeline([('scaler', StandardScaler()), ('kmeans', KMeans(n_clusters=10))])\n\nX = genre_data.select_dtypes(np.number)\ncluster_pipeline.fit(X)\ngenre_data['cluster'] = cluster_pipeline.predict(X)",
   "outputs": [],
   "execution_count": null
  },
  {
   "cell_type": "code",
   "metadata": {
    "cell_id": "00020-280bb9b1-edbe-4a03-b28f-d7106c74ca81",
    "deepnote_to_be_reexecuted": false,
    "source_hash": "87e3e652",
    "execution_start": 1651199819640,
    "execution_millis": 21432,
    "deepnote_cell_type": "code",
    "deepnote_cell_height": 935
   },
   "source": "'''Use tSNE (t-Distributed Stochastic Neighbor Embedding), \nan unsupervised dimensionality reduction algorithm, to compress\nand project the multi-dimensional data onto a two-dimensional space\n'''\n\n# import libraries\nfrom sklearn.manifold import TSNE\n\ntsne_pipeline = Pipeline([('scaler', StandardScaler()), ('tsne', TSNE(n_components=2, verbose=2))])\ngenre_embedding = tsne_pipeline.fit_transform(X)\n\nprojection = pd.DataFrame(columns=['x', 'y'], data=genre_embedding)\nprojection['genres'] = genre_data['genres']\nprojection['cluster'] = genre_data['cluster']",
   "outputs": [
    {
     "name": "stderr",
     "text": "/shared-libs/python3.7/py/lib/python3.7/site-packages/sklearn/manifold/_t_sne.py:783: FutureWarning: The default initialization in TSNE will change from 'random' to 'pca' in 1.2.\n  FutureWarning,\n/shared-libs/python3.7/py/lib/python3.7/site-packages/sklearn/manifold/_t_sne.py:793: FutureWarning: The default learning rate in TSNE will change from 200.0 to 'auto' in 1.2.\n  FutureWarning,\n[t-SNE] Computing 91 nearest neighbors...\n[t-SNE] Indexed 2973 samples in 0.005s...\n[t-SNE] Computed neighbors for 2973 samples in 0.251s...\n[t-SNE] Computed conditional probabilities for sample 1000 / 2973\n[t-SNE] Computed conditional probabilities for sample 2000 / 2973\n[t-SNE] Computed conditional probabilities for sample 2973 / 2973\n[t-SNE] Mean sigma: 0.777516\n[t-SNE] Computed conditional probabilities in 0.106s\n[t-SNE] Iteration 50: error = 81.9701538, gradient norm = 0.0088686 (50 iterations in 1.595s)\n[t-SNE] Iteration 100: error = 77.4159164, gradient norm = 0.0103270 (50 iterations in 1.612s)\n[t-SNE] Iteration 150: error = 76.4589081, gradient norm = 0.0116691 (50 iterations in 1.287s)\n[t-SNE] Iteration 200: error = 76.2070007, gradient norm = 0.0020013 (50 iterations in 0.993s)\n[t-SNE] Iteration 250: error = 76.1452026, gradient norm = 0.0007351 (50 iterations in 1.043s)\n[t-SNE] KL divergence after 250 iterations with early exaggeration: 76.145203\n[t-SNE] Iteration 300: error = 1.8252122, gradient norm = 0.0010187 (50 iterations in 0.975s)\n[t-SNE] Iteration 350: error = 1.5880446, gradient norm = 0.0003976 (50 iterations in 0.910s)\n[t-SNE] Iteration 400: error = 1.4985979, gradient norm = 0.0002342 (50 iterations in 0.904s)\n[t-SNE] Iteration 450: error = 1.4556715, gradient norm = 0.0001639 (50 iterations in 0.908s)\n[t-SNE] Iteration 500: error = 1.4330740, gradient norm = 0.0001328 (50 iterations in 0.963s)\n[t-SNE] Iteration 550: error = 1.4188896, gradient norm = 0.0001014 (50 iterations in 0.959s)\n[t-SNE] Iteration 600: error = 1.4099915, gradient norm = 0.0000816 (50 iterations in 0.998s)\n[t-SNE] Iteration 650: error = 1.4035203, gradient norm = 0.0000758 (50 iterations in 0.983s)\n[t-SNE] Iteration 700: error = 1.3991072, gradient norm = 0.0000655 (50 iterations in 0.973s)\n[t-SNE] Iteration 750: error = 1.3955457, gradient norm = 0.0000647 (50 iterations in 0.998s)\n[t-SNE] Iteration 800: error = 1.3926098, gradient norm = 0.0000572 (50 iterations in 1.008s)\n[t-SNE] Iteration 850: error = 1.3902497, gradient norm = 0.0000610 (50 iterations in 0.997s)\n[t-SNE] Iteration 900: error = 1.3880553, gradient norm = 0.0000669 (50 iterations in 0.981s)\n[t-SNE] Iteration 950: error = 1.3863447, gradient norm = 0.0000506 (50 iterations in 0.958s)\n[t-SNE] Iteration 1000: error = 1.3849885, gradient norm = 0.0000460 (50 iterations in 1.049s)\n[t-SNE] KL divergence after 1000 iterations: 1.384989\n",
     "output_type": "stream"
    }
   ],
   "execution_count": null
  },
  {
   "cell_type": "code",
   "metadata": {
    "cell_id": "00023-295268eb-48e3-4447-9d2f-c78d93be9da7",
    "deepnote_to_be_reexecuted": false,
    "source_hash": "1cdee4bc",
    "execution_start": 1639611279208,
    "execution_millis": 20357,
    "deepnote_cell_type": "code",
    "deepnote_cell_height": 989.59375,
    "deepnote_output_heights": [
     null,
     59.59375
    ]
   },
   "source": "'''Cluster 160k+ songs into 20 clusters (based on similar features) \nusing the unsupervised K-means algorithm'''\n\nsong_cluster_pipeline = Pipeline([('scaler', StandardScaler()), \n                                  ('kmeans', KMeans(n_clusters=20, \n                                   verbose=2, n_init=4))], verbose=True)\n\n'''X: an array of numerical data corresponding to each song -- i.e. valence, acousticness, danceability, energy, duration,\ninstrumentalness, key, liveness, loudness'''\nX = spotify_data.select_dtypes(np.number)\nnumber_cols = list(X.columns)\nsong_cluster_pipeline.fit(X)",
   "execution_count": null,
   "outputs": [
    {
     "name": "stdout",
     "text": "[Pipeline] ............ (step 1 of 2) Processing scaler, total=   0.1s\nInitialization complete\nIteration 0, inertia 1561516.2872809106\nIteration 1, inertia 1187251.4876109627\nIteration 2, inertia 1132468.9030263308\nIteration 3, inertia 1114156.4008767358\nIteration 4, inertia 1104009.5306416806\nIteration 5, inertia 1097014.7721047723\nIteration 6, inertia 1092804.2839283496\nIteration 7, inertia 1089293.8844267218\nIteration 8, inertia 1086063.9742611637\nIteration 9, inertia 1082496.080640119\nIteration 10, inertia 1078351.8049275968\nIteration 11, inertia 1074575.3232945558\nIteration 12, inertia 1071992.220184221\nIteration 13, inertia 1070199.108665891\nIteration 14, inertia 1069133.5735853238\nIteration 15, inertia 1068508.9377803025\nIteration 16, inertia 1068117.5263037367\nIteration 17, inertia 1067858.1339910775\nIteration 18, inertia 1067684.4205020852\nIteration 19, inertia 1067556.4681490725\nIteration 20, inertia 1067459.2489195762\nIteration 21, inertia 1067375.8895289965\nIteration 22, inertia 1067298.8184414192\nIteration 23, inertia 1067232.832386249\nIteration 24, inertia 1067183.3237876664\nIteration 25, inertia 1067143.8779304668\nIteration 26, inertia 1067101.8540518444\nIteration 27, inertia 1067040.6711380132\nIteration 28, inertia 1066923.1681862404\nIteration 29, inertia 1066702.8371637994\nIteration 30, inertia 1066265.0027796577\nIteration 31, inertia 1065608.419968383\nIteration 32, inertia 1065016.3684466416\nIteration 33, inertia 1064741.2106591205\nIteration 34, inertia 1064642.522194826\nIteration 35, inertia 1064602.8565273406\nIteration 36, inertia 1064583.7594535486\nIteration 37, inertia 1064570.4805126768\nIteration 38, inertia 1064559.5459644715\nIteration 39, inertia 1064550.9394085596\nIteration 40, inertia 1064543.9042701449\nIteration 41, inertia 1064538.6203588035\nIteration 42, inertia 1064533.9576093776\nIteration 43, inertia 1064528.7309635915\nIteration 44, inertia 1064523.5173393982\nIteration 45, inertia 1064518.7207075567\nIteration 46, inertia 1064514.1843752349\nIteration 47, inertia 1064509.9693259283\nIteration 48, inertia 1064505.7866185545\nIteration 49, inertia 1064501.3568444208\nIteration 50, inertia 1064497.640863816\nIteration 51, inertia 1064494.1918077657\nIteration 52, inertia 1064491.6824299798\nIteration 53, inertia 1064489.0889706893\nIteration 54, inertia 1064486.3624571033\nIteration 55, inertia 1064484.303476285\nConverged at iteration 55: center shift 8.946763548984684e-05 within tolerance 0.00010000000000000789.\nInitialization complete\nIteration 0, inertia 1534721.2422810537\nIteration 1, inertia 1166557.2816183658\nIteration 2, inertia 1114301.9653993198\nIteration 3, inertia 1091332.3454268156\nIteration 4, inertia 1085139.5264444377\nIteration 5, inertia 1082802.3200654471\nIteration 6, inertia 1081264.7824948616\nIteration 7, inertia 1079840.2479972388\nIteration 8, inertia 1078403.0236257284\nIteration 9, inertia 1076952.1414605174\nIteration 10, inertia 1075541.454099967\nIteration 11, inertia 1074500.6993608046\nIteration 12, inertia 1073887.1561718907\nIteration 13, inertia 1073534.352687035\nIteration 14, inertia 1073353.0974953272\nIteration 15, inertia 1073254.7065183448\nIteration 16, inertia 1073203.096429304\nIteration 17, inertia 1073178.829659588\nIteration 18, inertia 1073163.77386855\nIteration 19, inertia 1073153.631776707\nIteration 20, inertia 1073146.95851168\nIteration 21, inertia 1073142.1803032078\nIteration 22, inertia 1073137.9329148745\nIteration 23, inertia 1073134.0820199302\nIteration 24, inertia 1073130.114533863\nIteration 25, inertia 1073126.866431675\nIteration 26, inertia 1073123.5399317523\nIteration 27, inertia 1073120.9509183995\nIteration 28, inertia 1073119.270043558\nIteration 29, inertia 1073117.7261743294\nIteration 30, inertia 1073116.516746501\nConverged at iteration 30: center shift 5.2966047832771964e-05 within tolerance 0.00010000000000000789.\nInitialization complete\nIteration 0, inertia 1539324.2201638988\nIteration 1, inertia 1184761.3450936587\nIteration 2, inertia 1136687.805937084\nIteration 3, inertia 1115630.5369317094\nIteration 4, inertia 1105061.69479276\nIteration 5, inertia 1100285.1480192267\nIteration 6, inertia 1097178.6953560754\nIteration 7, inertia 1094464.3080835266\nIteration 8, inertia 1092233.9351003831\nIteration 9, inertia 1091122.0006908341\nIteration 10, inertia 1090407.7449792782\nIteration 11, inertia 1089443.7919510875\nIteration 12, inertia 1088037.5220525826\nIteration 13, inertia 1086250.1627730238\nIteration 14, inertia 1084559.1385449907\nIteration 15, inertia 1083565.3529243092\nIteration 16, inertia 1083094.5105954716\nIteration 17, inertia 1082833.9290412467\nIteration 18, inertia 1082664.138905107\nIteration 19, inertia 1082522.6631569404\nIteration 20, inertia 1082371.2487338297\nIteration 21, inertia 1082181.7574721728\nIteration 22, inertia 1081922.795570725\nIteration 23, inertia 1081560.1750120702\nIteration 24, inertia 1081096.4116681186\nIteration 25, inertia 1080570.9644271275\nIteration 26, inertia 1080075.5909107223\nIteration 27, inertia 1079620.281194482\nIteration 28, inertia 1079224.0474077028\nIteration 29, inertia 1078828.807332853\nIteration 30, inertia 1078393.0273947297\nIteration 31, inertia 1077836.371687782\nIteration 32, inertia 1077294.9528577654\nIteration 33, inertia 1076647.9672956609\nIteration 34, inertia 1075430.624360228\nIteration 35, inertia 1074501.571151148\nIteration 36, inertia 1074440.813389117\nIteration 37, inertia 1074392.639182939\nIteration 38, inertia 1074346.2038073596\nIteration 39, inertia 1074293.872965678\nIteration 40, inertia 1074234.6861202177\nIteration 41, inertia 1074167.107737117\nIteration 42, inertia 1074094.7750446876\nIteration 43, inertia 1074025.588052863\nIteration 44, inertia 1073944.8685075957\nIteration 45, inertia 1073860.9230875769\nIteration 46, inertia 1073768.7286175282\nIteration 47, inertia 1073658.137252015\nIteration 48, inertia 1073512.4269675897\nIteration 49, inertia 1073324.2920891582\nIteration 50, inertia 1073064.5460153515\nIteration 51, inertia 1072724.3196884128\nIteration 52, inertia 1072336.9591295868\nIteration 53, inertia 1071910.2913415418\nIteration 54, inertia 1071528.8164978263\nIteration 55, inertia 1071215.3536173296\nIteration 56, inertia 1070977.564038894\nIteration 57, inertia 1070805.4262555968\nIteration 58, inertia 1070700.6995916865\nIteration 59, inertia 1070630.8533561327\nIteration 60, inertia 1070594.8826640572\nIteration 61, inertia 1070573.3805423789\nIteration 62, inertia 1070560.5280848362\nIteration 63, inertia 1070552.3653951841\nIteration 64, inertia 1070547.4793228665\nIteration 65, inertia 1070544.8471181262\nConverged at iteration 65: center shift 9.519466562655013e-05 within tolerance 0.00010000000000000789.\nInitialization complete\nIteration 0, inertia 1470264.6312134753\nIteration 1, inertia 1166671.7017935659\nIteration 2, inertia 1130914.3529956997\nIteration 3, inertia 1108667.8160565183\nIteration 4, inertia 1094928.3008491388\nIteration 5, inertia 1086124.6394162476\nIteration 6, inertia 1080603.9819585024\nIteration 7, inertia 1077202.8473796733\nIteration 8, inertia 1075010.5794506911\nIteration 9, inertia 1073120.276445354\nIteration 10, inertia 1071153.2762400615\nIteration 11, inertia 1069074.772676666\nIteration 12, inertia 1067364.3734885023\nIteration 13, inertia 1066156.3559721853\nIteration 14, inertia 1065236.2466945252\nIteration 15, inertia 1064525.911656715\nIteration 16, inertia 1063980.7617547\nIteration 17, inertia 1063581.9502104747\nIteration 18, inertia 1063256.8292445557\nIteration 19, inertia 1062998.5364176473\nIteration 20, inertia 1062804.9404101316\nIteration 21, inertia 1062653.9136821015\nIteration 22, inertia 1062537.480728125\nIteration 23, inertia 1062455.7886814496\nIteration 24, inertia 1062395.576333378\nIteration 25, inertia 1062350.4935810086\nIteration 26, inertia 1062321.053718116\nIteration 27, inertia 1062299.4539831008\nIteration 28, inertia 1062282.8859954765\nIteration 29, inertia 1062268.5063414471\nIteration 30, inertia 1062255.3618211702\nIteration 31, inertia 1062246.9648112757\nIteration 32, inertia 1062241.4862914751\nIteration 33, inertia 1062237.5788002328\nIteration 34, inertia 1062234.4012273564\nIteration 35, inertia 1062232.2372410684\nConverged at iteration 35: center shift 7.915526056830852e-05 within tolerance 0.00010000000000000789.\n[Pipeline] ............ (step 2 of 2) Processing kmeans, total=  20.3s\n",
     "output_type": "stream",
     "data": {}
    },
    {
     "output_type": "execute_result",
     "execution_count": 8,
     "data": {
      "text/plain": "Pipeline(steps=[('scaler', StandardScaler()),\n                ('kmeans', KMeans(n_clusters=20, n_init=4, verbose=2))],\n         verbose=True)"
     },
     "metadata": {}
    }
   ]
  },
  {
   "cell_type": "code",
   "metadata": {
    "cell_id": "00024-2636d2d0-19ec-44df-af4b-8e3a87a1318a",
    "deepnote_to_be_reexecuted": false,
    "source_hash": "d30238fe",
    "execution_start": 1651199882426,
    "execution_millis": 13,
    "deepnote_cell_type": "code",
    "deepnote_cell_height": 180.1875
   },
   "source": "song_cluster_labels = song_cluster_pipeline.predict(X)\n\nspotify_data['cluster_label'] = song_cluster_labels",
   "outputs": [
    {
     "output_type": "error",
     "ename": "NameError",
     "evalue": "name 'song_cluster_pipeline' is not defined",
     "traceback": [
      "\u001b[0;31m---------------------------------------------------------------------------\u001b[0m",
      "\u001b[0;31mNameError\u001b[0m                                 Traceback (most recent call last)",
      "\u001b[0;32m<ipython-input-14-f2c35490b2a3>\u001b[0m in \u001b[0;36m<module>\u001b[0;34m\u001b[0m\n\u001b[0;32m----> 1\u001b[0;31m \u001b[0msong_cluster_labels\u001b[0m \u001b[0;34m=\u001b[0m \u001b[0msong_cluster_pipeline\u001b[0m\u001b[0;34m.\u001b[0m\u001b[0mpredict\u001b[0m\u001b[0;34m(\u001b[0m\u001b[0mX\u001b[0m\u001b[0;34m)\u001b[0m\u001b[0;34m\u001b[0m\u001b[0;34m\u001b[0m\u001b[0m\n\u001b[0m\u001b[1;32m      2\u001b[0m \u001b[0;34m\u001b[0m\u001b[0m\n\u001b[1;32m      3\u001b[0m \u001b[0mspotify_data\u001b[0m\u001b[0;34m[\u001b[0m\u001b[0;34m'cluster_label'\u001b[0m\u001b[0;34m]\u001b[0m \u001b[0;34m=\u001b[0m \u001b[0msong_cluster_labels\u001b[0m\u001b[0;34m\u001b[0m\u001b[0;34m\u001b[0m\u001b[0m\n",
      "\u001b[0;31mNameError\u001b[0m: name 'song_cluster_pipeline' is not defined"
     ]
    }
   ],
   "execution_count": null
  },
  {
   "cell_type": "code",
   "metadata": {
    "cell_id": "00026-10ccb4a1-e8b0-4998-9c10-7780571e5cbd",
    "deepnote_to_be_reexecuted": false,
    "source_hash": "9c0418b5",
    "execution_start": 1651199883476,
    "execution_millis": 185,
    "deepnote_cell_type": "code",
    "deepnote_cell_height": 342.1875
   },
   "source": "'''Use PCA (principal components analysis), another dimensionality reduction technique that runs faster than TSNE,\nto compress the multi-dimensional song data onto a two-dimensional space,\npreserving only the most important two dimensions'''\n\nfrom sklearn.decomposition import PCA\n\npca_pipeline = Pipeline([('scaler', StandardScaler()), ('PCA', PCA(n_components=2))])\nsong_embedding = pca_pipeline.fit_transform(X)\n\nprojection = pd.DataFrame(columns=['x', 'y'], data=song_embedding)\nprojection['title'] = spotify_data['name']\nprojection['cluster'] = spotify_data['cluster_label']",
   "outputs": [
    {
     "output_type": "error",
     "ename": "KeyError",
     "evalue": "'cluster_label'",
     "traceback": [
      "\u001b[0;31m---------------------------------------------------------------------------\u001b[0m",
      "\u001b[0;31mKeyError\u001b[0m                                  Traceback (most recent call last)",
      "\u001b[0;32m/shared-libs/python3.7/py/lib/python3.7/site-packages/pandas/core/indexes/base.py\u001b[0m in \u001b[0;36mget_loc\u001b[0;34m(self, key, method, tolerance)\u001b[0m\n\u001b[1;32m   3080\u001b[0m             \u001b[0;32mtry\u001b[0m\u001b[0;34m:\u001b[0m\u001b[0;34m\u001b[0m\u001b[0;34m\u001b[0m\u001b[0m\n\u001b[0;32m-> 3081\u001b[0;31m                 \u001b[0;32mreturn\u001b[0m \u001b[0mself\u001b[0m\u001b[0;34m.\u001b[0m\u001b[0m_engine\u001b[0m\u001b[0;34m.\u001b[0m\u001b[0mget_loc\u001b[0m\u001b[0;34m(\u001b[0m\u001b[0mcasted_key\u001b[0m\u001b[0;34m)\u001b[0m\u001b[0;34m\u001b[0m\u001b[0;34m\u001b[0m\u001b[0m\n\u001b[0m\u001b[1;32m   3082\u001b[0m             \u001b[0;32mexcept\u001b[0m \u001b[0mKeyError\u001b[0m \u001b[0;32mas\u001b[0m \u001b[0merr\u001b[0m\u001b[0;34m:\u001b[0m\u001b[0;34m\u001b[0m\u001b[0;34m\u001b[0m\u001b[0m\n",
      "\u001b[0;32mpandas/_libs/index.pyx\u001b[0m in \u001b[0;36mpandas._libs.index.IndexEngine.get_loc\u001b[0;34m()\u001b[0m\n",
      "\u001b[0;32mpandas/_libs/index.pyx\u001b[0m in \u001b[0;36mpandas._libs.index.IndexEngine.get_loc\u001b[0;34m()\u001b[0m\n",
      "\u001b[0;32mpandas/_libs/hashtable_class_helper.pxi\u001b[0m in \u001b[0;36mpandas._libs.hashtable.PyObjectHashTable.get_item\u001b[0;34m()\u001b[0m\n",
      "\u001b[0;32mpandas/_libs/hashtable_class_helper.pxi\u001b[0m in \u001b[0;36mpandas._libs.hashtable.PyObjectHashTable.get_item\u001b[0;34m()\u001b[0m\n",
      "\u001b[0;31mKeyError\u001b[0m: 'cluster_label'",
      "\nThe above exception was the direct cause of the following exception:\n",
      "\u001b[0;31mKeyError\u001b[0m                                  Traceback (most recent call last)",
      "\u001b[0;32m<ipython-input-15-e1b93c3e3864>\u001b[0m in \u001b[0;36m<module>\u001b[0;34m\u001b[0m\n\u001b[1;32m     10\u001b[0m \u001b[0mprojection\u001b[0m \u001b[0;34m=\u001b[0m \u001b[0mpd\u001b[0m\u001b[0;34m.\u001b[0m\u001b[0mDataFrame\u001b[0m\u001b[0;34m(\u001b[0m\u001b[0mcolumns\u001b[0m\u001b[0;34m=\u001b[0m\u001b[0;34m[\u001b[0m\u001b[0;34m'x'\u001b[0m\u001b[0;34m,\u001b[0m \u001b[0;34m'y'\u001b[0m\u001b[0;34m]\u001b[0m\u001b[0;34m,\u001b[0m \u001b[0mdata\u001b[0m\u001b[0;34m=\u001b[0m\u001b[0msong_embedding\u001b[0m\u001b[0;34m)\u001b[0m\u001b[0;34m\u001b[0m\u001b[0;34m\u001b[0m\u001b[0m\n\u001b[1;32m     11\u001b[0m \u001b[0mprojection\u001b[0m\u001b[0;34m[\u001b[0m\u001b[0;34m'title'\u001b[0m\u001b[0;34m]\u001b[0m \u001b[0;34m=\u001b[0m \u001b[0mspotify_data\u001b[0m\u001b[0;34m[\u001b[0m\u001b[0;34m'name'\u001b[0m\u001b[0;34m]\u001b[0m\u001b[0;34m\u001b[0m\u001b[0;34m\u001b[0m\u001b[0m\n\u001b[0;32m---> 12\u001b[0;31m \u001b[0mprojection\u001b[0m\u001b[0;34m[\u001b[0m\u001b[0;34m'cluster'\u001b[0m\u001b[0;34m]\u001b[0m \u001b[0;34m=\u001b[0m \u001b[0mspotify_data\u001b[0m\u001b[0;34m[\u001b[0m\u001b[0;34m'cluster_label'\u001b[0m\u001b[0;34m]\u001b[0m\u001b[0;34m\u001b[0m\u001b[0;34m\u001b[0m\u001b[0m\n\u001b[0m",
      "\u001b[0;32m/shared-libs/python3.7/py/lib/python3.7/site-packages/pandas/core/frame.py\u001b[0m in \u001b[0;36m__getitem__\u001b[0;34m(self, key)\u001b[0m\n\u001b[1;32m   3022\u001b[0m             \u001b[0;32mif\u001b[0m \u001b[0mself\u001b[0m\u001b[0;34m.\u001b[0m\u001b[0mcolumns\u001b[0m\u001b[0;34m.\u001b[0m\u001b[0mnlevels\u001b[0m \u001b[0;34m>\u001b[0m \u001b[0;36m1\u001b[0m\u001b[0;34m:\u001b[0m\u001b[0;34m\u001b[0m\u001b[0;34m\u001b[0m\u001b[0m\n\u001b[1;32m   3023\u001b[0m                 \u001b[0;32mreturn\u001b[0m \u001b[0mself\u001b[0m\u001b[0;34m.\u001b[0m\u001b[0m_getitem_multilevel\u001b[0m\u001b[0;34m(\u001b[0m\u001b[0mkey\u001b[0m\u001b[0;34m)\u001b[0m\u001b[0;34m\u001b[0m\u001b[0;34m\u001b[0m\u001b[0m\n\u001b[0;32m-> 3024\u001b[0;31m             \u001b[0mindexer\u001b[0m \u001b[0;34m=\u001b[0m \u001b[0mself\u001b[0m\u001b[0;34m.\u001b[0m\u001b[0mcolumns\u001b[0m\u001b[0;34m.\u001b[0m\u001b[0mget_loc\u001b[0m\u001b[0;34m(\u001b[0m\u001b[0mkey\u001b[0m\u001b[0;34m)\u001b[0m\u001b[0;34m\u001b[0m\u001b[0;34m\u001b[0m\u001b[0m\n\u001b[0m\u001b[1;32m   3025\u001b[0m             \u001b[0;32mif\u001b[0m \u001b[0mis_integer\u001b[0m\u001b[0;34m(\u001b[0m\u001b[0mindexer\u001b[0m\u001b[0;34m)\u001b[0m\u001b[0;34m:\u001b[0m\u001b[0;34m\u001b[0m\u001b[0;34m\u001b[0m\u001b[0m\n\u001b[1;32m   3026\u001b[0m                 \u001b[0mindexer\u001b[0m \u001b[0;34m=\u001b[0m \u001b[0;34m[\u001b[0m\u001b[0mindexer\u001b[0m\u001b[0;34m]\u001b[0m\u001b[0;34m\u001b[0m\u001b[0;34m\u001b[0m\u001b[0m\n",
      "\u001b[0;32m/shared-libs/python3.7/py/lib/python3.7/site-packages/pandas/core/indexes/base.py\u001b[0m in \u001b[0;36mget_loc\u001b[0;34m(self, key, method, tolerance)\u001b[0m\n\u001b[1;32m   3081\u001b[0m                 \u001b[0;32mreturn\u001b[0m \u001b[0mself\u001b[0m\u001b[0;34m.\u001b[0m\u001b[0m_engine\u001b[0m\u001b[0;34m.\u001b[0m\u001b[0mget_loc\u001b[0m\u001b[0;34m(\u001b[0m\u001b[0mcasted_key\u001b[0m\u001b[0;34m)\u001b[0m\u001b[0;34m\u001b[0m\u001b[0;34m\u001b[0m\u001b[0m\n\u001b[1;32m   3082\u001b[0m             \u001b[0;32mexcept\u001b[0m \u001b[0mKeyError\u001b[0m \u001b[0;32mas\u001b[0m \u001b[0merr\u001b[0m\u001b[0;34m:\u001b[0m\u001b[0;34m\u001b[0m\u001b[0;34m\u001b[0m\u001b[0m\n\u001b[0;32m-> 3083\u001b[0;31m                 \u001b[0;32mraise\u001b[0m \u001b[0mKeyError\u001b[0m\u001b[0;34m(\u001b[0m\u001b[0mkey\u001b[0m\u001b[0;34m)\u001b[0m \u001b[0;32mfrom\u001b[0m \u001b[0merr\u001b[0m\u001b[0;34m\u001b[0m\u001b[0;34m\u001b[0m\u001b[0m\n\u001b[0m\u001b[1;32m   3084\u001b[0m \u001b[0;34m\u001b[0m\u001b[0m\n\u001b[1;32m   3085\u001b[0m         \u001b[0;32mif\u001b[0m \u001b[0mtolerance\u001b[0m \u001b[0;32mis\u001b[0m \u001b[0;32mnot\u001b[0m \u001b[0;32mNone\u001b[0m\u001b[0;34m:\u001b[0m\u001b[0;34m\u001b[0m\u001b[0;34m\u001b[0m\u001b[0m\n",
      "\u001b[0;31mKeyError\u001b[0m: 'cluster_label'"
     ]
    }
   ],
   "execution_count": null
  },
  {
   "cell_type": "markdown",
   "source": "### Build a song recommendation algorithm",
   "metadata": {
    "cell_id": "00028-7e4ad842-e0ba-4dfb-bc51-a2a3fc43357c",
    "owner_user_id": "de993116-3728-45d6-9907-53f9116d715b",
    "deepnote_cell_type": "markdown",
    "deepnote_cell_height": 62
   }
  },
  {
   "cell_type": "code",
   "metadata": {
    "cell_id": "00029-295a9b3c-22b9-4250-a3ad-d90f8d659863",
    "deepnote_to_be_reexecuted": false,
    "source_hash": "7a203168",
    "execution_start": 1639611319874,
    "execution_millis": 2,
    "deepnote_cell_type": "code",
    "deepnote_cell_height": 675
   },
   "source": "from spotipy.oauth2 import SpotifyClientCredentials\nfrom collections import defaultdict\n\nCLIENT_ID = 'a1252d2f88a748328ae048b52770ffb5'\nCLIENT_SECRET = 'b57de54acf5740c88028684f1b1a224e'\n\nsp = spotipy.Spotify(auth_manager=SpotifyClientCredentials(client_id=CLIENT_ID,\n                                                           client_secret=CLIENT_SECRET))\n\n\ndef find_song(name, year):\n    \n    song_data = defaultdict()\n    results = sp.search(q= 'track: {} year: {}'.format(name,\n                                                       year), limit=1)\n    if results['tracks']['items'] == []:\n        return None\n    \n    results = results['tracks']['items'][0]\n\n    track_id = results['id']\n    audio_features = sp.audio_features(track_id)[0]\n    \n    song_data['name'] = [name]\n    song_data['year'] = [year]\n    song_data['explicit'] = [int(results['explicit'])]\n    song_data['duration_ms'] = [results['duration_ms']]\n    song_data['popularity'] = [results['popularity']]\n    \n    for key, value in audio_features.items():\n        song_data[key] = value\n    \n    return pd.DataFrame(song_data)\n    ",
   "execution_count": null,
   "outputs": []
  },
  {
   "cell_type": "code",
   "metadata": {
    "cell_id": "00030-b57cf122-de54-4166-bb9f-dad0a3f11c6b",
    "deepnote_to_be_reexecuted": false,
    "source_hash": "e98f5f61",
    "execution_start": 1639611321781,
    "execution_millis": 1,
    "deepnote_cell_type": "code",
    "deepnote_cell_height": 1197
   },
   "source": "from collections import defaultdict\nfrom sklearn.metrics import euclidean_distances\nfrom scipy.spatial.distance import cdist\nimport difflib\n\nnumber_cols = ['valence', 'year', 'acousticness', 'danceability', 'duration_ms', 'energy', 'explicit',\n 'instrumentalness', 'key', 'liveness', 'loudness', 'mode', 'popularity', 'speechiness', 'tempo']\n\ndef get_song_data(song, spotify_data):\n    \n    try:\n        song_data = spotify_data[(spotify_data['name'] == song['name']) \n                                & (spotify_data['year'] == song['year'])].iloc[0]\n        return song_data\n    \n    except IndexError:\n        return find_song(song['name'], song['year'])\n        \n\ndef get_mean_vector(song_list, spotify_data):\n    \n    song_vectors = []\n    \n    for song in song_list:\n        song_data = get_song_data(song, spotify_data)\n        if song_data is None:\n            print('Warning: {} does not exist in Spotify or in database'.format(song['name']))\n            continue\n        song_vector = song_data[number_cols].values\n        song_vectors.append(song_vector)  \n    \n    song_matrix = np.array(list(song_vectors))\n    return np.mean(song_matrix, axis=0)\n\ndef flatten_dict_list(dict_list):\n    \n    flattened_dict = defaultdict()\n    for key in dict_list[0].keys():\n        flattened_dict[key] = []\n    \n    for dictionary in dict_list:\n        for key, value in dictionary.items():\n            flattened_dict[key].append(value)\n            \n    return flattened_dict\n        \n\ndef recommend_songs( song_list, spotify_data, n_songs=10):\n    \n    metadata_cols = ['name', 'year', 'artists']\n    song_dict = flatten_dict_list(song_list)\n    \n    song_center = get_mean_vector(song_list, spotify_data)\n    scaler = song_cluster_pipeline.steps[0][1]\n    scaled_data = scaler.transform(spotify_data[number_cols])\n    scaled_song_center = scaler.transform(song_center.reshape(1, -1))\n    distances = cdist(scaled_song_center, scaled_data, 'cosine')\n    index = list(np.argsort(distances)[:, :n_songs][0])\n    \n    rec_songs = spotify_data.iloc[index]\n    rec_songs = rec_songs[~rec_songs['name'].isin(song_dict['name'])]\n    return rec_songs[metadata_cols].to_dict(orient='records')\n",
   "execution_count": null,
   "outputs": []
  },
  {
   "cell_type": "code",
   "metadata": {
    "tags": [],
    "cell_id": "00031-58976c13-0b9d-41ff-bfd7-bd2c535ce9fd",
    "deepnote_to_be_reexecuted": false,
    "source_hash": "55a0b86f",
    "execution_start": 1639611325757,
    "execution_millis": 3,
    "deepnote_cell_type": "code",
    "deepnote_cell_height": 891
   },
   "source": "import pprint\n\ndef getPlaylists(username):\n    # create a user object using Spotify API\n    user = sp.user(username)\n    \n    # use Spotify API to fetch information about user's playlists\n    user_playlists = sp.user_playlists(username, limit=50, offset=0)\n    \n    # store ID's of each of the user's playlists\n    ids = []\n\n    num_playlists = len(user_playlists['items'])\n\n    for i in range(num_playlists):\n        ids.append((user_playlists['items'][i]['id'], user_playlists['items'][i]['name']))\n\n    return ids\n\n\ndef get_song_list_from_playlist(playlist_id):\n\n    results = sp.playlist(playlist_id)\n\n    # exctract song IDs of each song in the playlist\n    song_ids = []\n    for item in results['tracks']['items']:\n            track = item['track']['id']\n            song_ids.append(track)\n\n    # list storing dictionaries, one per song, containing the song's information\n    song_metadata = []\n\n    for song_id in song_ids:\n        # each song's entry includes its name and year released\n        song_metadata_entry = {}\n        # get song's metadata using Spotify API\n        data = sp.track(song_id)\n        pp = pprint.PrettyPrinter(indent=1)\n\n        # extract the song's name and year released from the song metadata object released by sp.track()\n        song_metadata_entry['name'] = data['name']\n        song_metadata_entry['year'] = int(data['album']['release_date'][:4])\n        song_metadata.append(song_metadata_entry)\n\n    return song_metadata",
   "execution_count": null,
   "outputs": []
  },
  {
   "cell_type": "code",
   "metadata": {
    "tags": [],
    "cell_id": "00032-b872a8d8-c007-47f8-adc2-137ec7815693",
    "deepnote_to_be_reexecuted": false,
    "source_hash": "1f673794",
    "execution_start": 1651199842742,
    "execution_millis": 3835,
    "deepnote_cell_type": "code",
    "deepnote_cell_height": 2011,
    "deepnote_output_heights": [
     194,
     424.390625
    ]
   },
   "source": "import pprint\n\n# flow for user to analyze their own playlists\n\n# ask user for Spotify username\nusername = input(\"Enter a Spotify username\")\n\n# print out a numbered list of user's Spotify playlists (by title of playlist)\ncount = 0\nplaylists = getPlaylists(username)\nfor playlist in playlists:\n    if count > 9:\n        print(str(count) + ' | ' + playlist[1])\n    else:\n        print(str(count) + '  | ' + playlist[1])\n    count += 1\n\n'''Have user choose one playlist, and the algorithm will give the user some\nsong recommendations based on and similar to songs present in that playlist'''\n\ndef printRecs(recOut):\n    count = 1\n    for rec in recOut:\n        artists = ''\n        for i in range(len(eval(rec['artists']))-1):\n            artists += (eval(rec['artists'])[i] + ', ')\n        artists += eval(rec['artists'])[len(eval(rec['artists']))-1]\n        print(str(count) + ') ' + rec['name'] + ' by ' + artists + ' (' + str(rec['year']) + ')')\n        count += 1\n\nval = int(input(\"Enter the number next to the playlist you want to view recommendations based off:\"))\nwhile val >= 0:\n    playlist = playlists[val]\n    print()\n    print('You have chosen to view recs for ' + playlist[1])\n    print()\n    song_metadata = get_song_list_from_playlist(playlist[0])\n    pp = pprint.PrettyPrinter(indent=1)\n\n\n\n\n    # pp.pprint(recommend_songs(song_metadata, spotify_data))\n    print()\n    print(\"HERE ARE YOU RECOMMENDATIONS BASED OFF \\\"\" + playlist[1] + \"\\\"\")\n    printRecs(recommend_songs(song_metadata, spotify_data))\n    val = int(input(\"Enter another number to see recs for another playlist, or enter -1 to quit\"))",
   "outputs": [
    {
     "output_type": "error",
     "ename": "NameError",
     "evalue": "name 'getPlaylists' is not defined",
     "traceback": [
      "\u001b[0;31m---------------------------------------------------------------------------\u001b[0m",
      "\u001b[0;31mNameError\u001b[0m                                 Traceback (most recent call last)",
      "\u001b[0;32m<ipython-input-7-21e3ec7707e2>\u001b[0m in \u001b[0;36m<module>\u001b[0;34m\u001b[0m\n\u001b[1;32m      8\u001b[0m \u001b[0;31m# print out a numbered list of user's Spotify playlists (by title of playlist)\u001b[0m\u001b[0;34m\u001b[0m\u001b[0;34m\u001b[0m\u001b[0;34m\u001b[0m\u001b[0m\n\u001b[1;32m      9\u001b[0m \u001b[0mcount\u001b[0m \u001b[0;34m=\u001b[0m \u001b[0;36m0\u001b[0m\u001b[0;34m\u001b[0m\u001b[0;34m\u001b[0m\u001b[0m\n\u001b[0;32m---> 10\u001b[0;31m \u001b[0mplaylists\u001b[0m \u001b[0;34m=\u001b[0m \u001b[0mgetPlaylists\u001b[0m\u001b[0;34m(\u001b[0m\u001b[0musername\u001b[0m\u001b[0;34m)\u001b[0m\u001b[0;34m\u001b[0m\u001b[0;34m\u001b[0m\u001b[0m\n\u001b[0m\u001b[1;32m     11\u001b[0m \u001b[0;32mfor\u001b[0m \u001b[0mplaylist\u001b[0m \u001b[0;32min\u001b[0m \u001b[0mplaylists\u001b[0m\u001b[0;34m:\u001b[0m\u001b[0;34m\u001b[0m\u001b[0;34m\u001b[0m\u001b[0m\n\u001b[1;32m     12\u001b[0m     \u001b[0;32mif\u001b[0m \u001b[0mcount\u001b[0m \u001b[0;34m>\u001b[0m \u001b[0;36m9\u001b[0m\u001b[0;34m:\u001b[0m\u001b[0;34m\u001b[0m\u001b[0;34m\u001b[0m\u001b[0m\n",
      "\u001b[0;31mNameError\u001b[0m: name 'getPlaylists' is not defined"
     ]
    }
   ],
   "execution_count": null
  },
  {
   "cell_type": "code",
   "metadata": {
    "tags": [],
    "cell_id": "00019-24bf09bb-b352-42d9-9916-3f1aaa4fb93e",
    "deepnote_to_be_reexecuted": true,
    "source_hash": "b623e53d",
    "deepnote_cell_type": "code",
    "deepnote_cell_height": 81
   },
   "source": "",
   "execution_count": null,
   "outputs": []
  },
  {
   "cell_type": "markdown",
   "source": "<a style='text-decoration:none;line-height:16px;display:flex;color:#5B5B62;padding:10px;justify-content:end;' href='https://deepnote.com?utm_source=created-in-deepnote-cell&projectId=69771c6e-a76e-4b75-8043-409b087b6b70' target=\"_blank\">\n<img alt='Created in deepnote.com' style='display:inline;max-height:16px;margin:0px;margin-right:7.5px;' src='data:image/svg+xml;base64,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' > </img>\nCreated in <span style='font-weight:600;margin-left:4px;'>Deepnote</span></a>",
   "metadata": {
    "tags": [],
    "created_in_deepnote_cell": true,
    "deepnote_cell_type": "markdown"
   }
  }
 ],
 "nbformat": 4,
 "nbformat_minor": 4,
 "metadata": {
  "kernelspec": {
   "display_name": "Python 3",
   "language": "python",
   "name": "python3"
  },
  "language_info": {
   "codemirror_mode": {
    "name": "ipython",
    "version": 3
   },
   "file_extension": ".py",
   "mimetype": "text/x-python",
   "name": "python",
   "nbconvert_exporter": "python",
   "pygments_lexer": "ipython3",
   "version": "3.7.6"
  },
  "deepnote_notebook_id": "deb0090c-27a7-4530-85ce-a844c56fb19d",
  "deepnote": {},
  "deepnote_execution_queue": []
 }
}